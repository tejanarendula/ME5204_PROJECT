{
 "cells": [
  {
   "cell_type": "code",
   "execution_count": 76,
   "id": "682ed960",
   "metadata": {},
   "outputs": [],
   "source": [
    "import numpy as np\n",
    "import matplotlib.pyplot as plt"
   ]
  },
  {
   "cell_type": "code",
   "execution_count": 77,
   "id": "829e0138",
   "metadata": {},
   "outputs": [],
   "source": [
    "num_nodes = 3\n",
    "num_elements = 1 #cst element\n",
    "num_materials = 1\n",
    "problem_type = 21 #plane stress\n",
    "thickness = 1\n",
    "num_load_bc = 1 #number of lolads applied\n",
    "num_disp_bc = 2 #number of places displacement condition is applied\n",
    "dofpn = 2 #degrees of freedom per node\n",
    "tdof = num_nodes*dofpn #total degrees of freedom"
   ]
  },
  {
   "cell_type": "code",
   "execution_count": 78,
   "id": "ae1b0786",
   "metadata": {},
   "outputs": [],
   "source": [
    "COORD = np.loadtxt(fname = 'D:\\\\DATA\\\\COORD.txt').astype(np.float32)\n",
    "NCA = np.loadtxt(fname = 'D:\\\\DATA\\\\NCA.txt').astype(np.int64)\n",
    "MAT = np.loadtxt(fname = 'D:\\DATA\\MAT.txt').astype(np.float32)\n",
    "LOAD_BC = np.loadtxt(fname = 'D:\\DATA\\LOAD_BC.txt').astype(np.float32)\n",
    "DISP_BC = np.loadtxt(fname = 'D:\\DATA\\DISP_BC.txt').astype(np.float32)\n",
    "#N1 = NCA[1][1]\n",
    "#print(N1)"
   ]
  },
  {
   "cell_type": "code",
   "execution_count": 79,
   "id": "9f0dfaf2",
   "metadata": {},
   "outputs": [
    {
     "data": {
      "image/png": "[encoded data removed]",
      "text/plain": [
       "<Figure size 432x288 with 1 Axes>"
      ]
     },
     "metadata": {
      "needs_background": "light"
     },
     "output_type": "display_data"
    }
   ],
   "source": [
    "for ele in range(1,2):\n",
    "    \n",
    "    # Nodes for each element from 1 to 6\n",
    "    \n",
    "    N1=NCA[ele,1]\n",
    "    N2=NCA[ele,2]\n",
    "    N3=NCA[ele,3]\n",
    "    \n",
    "    # Nodal coordinates for each element from 1 to 6\n",
    "    \n",
    "    X1N1=COORD[N1,1]\n",
    "    X2N1=COORD[N1,2]\n",
    "    X1N2=COORD[N2,1]\n",
    "    X2N2=COORD[N2,2]\n",
    "    X1N3=COORD[N3,1]\n",
    "    X2N3=COORD[N3,2]\n",
    "    \n",
    "    #Assigning material for each element\n",
    "    \n",
    "    Mat_num=NCA[ele,4]\n",
    "    \n",
    "    #Verification of the geometry of the problem by plotting all the elements and nodes\n",
    "    \n",
    "    X=[X1N1,X1N2,X1N3]\n",
    "    Y=[X2N1,X2N2,X2N3]\n",
    "    CGX=(X1N1+X1N2+X1N3)/3\n",
    "    CGY=(X2N1+X2N2+X2N3)/3\n",
    "    if Mat_num==1:\n",
    "        plt.fill(X,Y,'c')\n",
    "    else:\n",
    "        plt.fill(X,Y,'y')\n",
    "    plt.scatter(X,Y,c='black')\n",
    "    plt.text(CGX,CGY,str(ele))\n",
    "    plt.text(X1N1,X2N1,str(N1))"
   ]
  },
  {
   "cell_type": "code",
   "execution_count": 80,
   "id": "6e917288",
   "metadata": {},
   "outputs": [
    {
     "name": "stdout",
     "output_type": "stream",
     "text": [
      "[[0. 0. 0. 0. 0. 0.]\n",
      " [0. 0. 0. 0. 0. 0.]\n",
      " [0. 0. 0. 0. 0. 0.]\n",
      " [0. 0. 0. 0. 0. 0.]\n",
      " [0. 0. 0. 0. 0. 0.]\n",
      " [0. 0. 0. 0. 0. 0.]]\n",
      "[0. 0. 0. 0. 0. 0.]\n"
     ]
    }
   ],
   "source": [
    "GSTIFF=np.zeros((tdof,tdof)) # initialisition of Global stiffness matrix with all elements equal to zero\n",
    "F=np.zeros(tdof) # initialisation of force matrix\n",
    "print(GSTIFF)\n",
    "print(F)"
   ]
  },
  {
   "cell_type": "code",
   "execution_count": 81,
   "id": "3ce48061",
   "metadata": {},
   "outputs": [
    {
     "name": "stdout",
     "output_type": "stream",
     "text": [
      "[[-0.33854167 -0.15625     0.078125   -0.05208333  0.26041667  0.20833333]\n",
      " [-0.15625    -0.57291667  0.05208333  0.46875     0.10416667  0.10416667]\n",
      " [ 0.078125    0.05208333 -0.33854167  0.15625     0.26041667 -0.20833333]\n",
      " [-0.05208333  0.46875     0.15625    -0.57291667 -0.10416667  0.10416667]\n",
      " [ 0.26041667  0.10416667  0.26041667 -0.10416667 -0.52083333  0.        ]\n",
      " [ 0.20833333  0.10416667 -0.20833333  0.10416667  0.         -0.20833333]]\n"
     ]
    }
   ],
   "source": [
    "for ele in range(1,2):\n",
    "    \n",
    "    # Nodes for each element from 1 to 6\n",
    "    \n",
    "    N1=NCA[ele,1]\n",
    "    N2=NCA[ele,2]\n",
    "    N3=NCA[ele,3]\n",
    "    \n",
    "    # Nodal coordinates for each element from 1 to 6\n",
    "    \n",
    "    X1N1=COORD[N1,1]\n",
    "    X2N1=COORD[N1,2]\n",
    "    X1N2=COORD[N2,1]\n",
    "    X2N2=COORD[N2,2]\n",
    "    X1N3=COORD[N3,1]\n",
    "    X2N3=COORD[N3,2]\n",
    "    \n",
    "    two_delta_matrix = np.array([[1,X1N1,X2N1],[1,X1N2,X2N2],[1,X1N3,X2N3]]) #creating 2delta matrix\n",
    "    two_delta = np.linalg.det(two_delta_matrix) #calculating det of the matrix\n",
    "    \n",
    "    #calculation of B matrix\n",
    "    \n",
    "    B1 = X2N2-X2N3 #calculation of Beta values\n",
    "    B2 = X2N3-X2N1\n",
    "    B3 = X2N1-X2N2\n",
    "    G1 = X1N3-X1N2 #calculation of Gamma values\n",
    "    G2 = X1N1-X1N3\n",
    "    G3 = X1N2-X1N1\n",
    "    B = np.zeros((3,6)) #initialisation of B matrix to Zero\n",
    "    B[0,0] = B1 \n",
    "    B[0,2] = B2\n",
    "    B[0,4] = B3\n",
    "    B[1,1] = G1\n",
    "    B[1,3] = G2\n",
    "    B[1,5] = G3\n",
    "    B[2,0] = G1\n",
    "    B[2,1] = B1\n",
    "    B[2,2] = G2\n",
    "    B[2,3] = B2\n",
    "    B[2,4] = G3\n",
    "    B[2,5] = B3\n",
    "    B=B/two_delta #calculation if B matrix\n",
    "    \n",
    "    Mat_num=NCA[ele,4]\n",
    "    E = MAT[Mat_num,1]\n",
    "    PR = MAT[Mat_num,2]\n",
    "    CONST = E/(1-PR**2)\n",
    "    D = np.zeros((3,3))\n",
    "    D[0,0] = 1\n",
    "    D[0,1] = PR\n",
    "    D[1,0] = PR\n",
    "    D[1,1] = 1\n",
    "    D[2,2] = (1-PR)/2\n",
    "    D=D*CONST\n",
    "    \n",
    "    ESTIFF=B.transpose()@D@B*thickness*two_delta*0.5 # Element stiffness matrix\n",
    "    \n",
    "    #Assembly of Global Stiffness Matrix\n",
    "    \n",
    "    CN=[2*N1-2,2*N1-1,2*N2-2,2*N2-1,2*N3-2,2*N3-1]\n",
    "    CN_IDX=np.array(6*CN).reshape(6,6)\n",
    "    RN_IDX=CN_IDX.transpose()\n",
    "    GSTIFF[RN_IDX,CN_IDX]=GSTIFF[RN_IDX,CN_IDX]+ESTIFF\n",
    "print(GSTIFF)\n",
    "    \n",
    "    \n",
    "    \n",
    "    "
   ]
  },
  {
   "cell_type": "code",
   "execution_count": 82,
   "id": "b52e5c76",
   "metadata": {},
   "outputs": [
    {
     "name": "stdout",
     "output_type": "stream",
     "text": [
      "[0. 0. 0. 0. 1. 0.]\n"
     ]
    }
   ],
   "source": [
    "for i in range (1,2):\n",
    "    load_type = LOAD_BC[i,2]\n",
    "    if load_type==1:\n",
    "        N=int(LOAD_BC[i,1])\n",
    "        F[(2*N-2)]=F[(2*N-2)]+LOAD_BC[i,3] #Assembly of Global Force Vector\n",
    "    elif load_type==2:\n",
    "        N=int(LOAD_BC[i,1])\n",
    "        F[(2*N-1)]=F[(2*N-1)]+LOAD_BC[i,4]\n",
    "    else:\n",
    "        N=int(LOAD_BC[i,1])\n",
    "        F[(2*N-2)]=F[(2*N-2)]+LOAD_BC[i,3]\n",
    "        F[(2*N-1)]=F[(2*N-1)]+LOAD_BC[i,4]\n",
    "print(F)"
   ]
  },
  {
   "cell_type": "code",
   "execution_count": 83,
   "id": "2d9560c0",
   "metadata": {},
   "outputs": [
    {
     "name": "stdout",
     "output_type": "stream",
     "text": [
      "[[-0.33854167 -0.15625     0.078125   -0.05208333  0.26041667  0.20833333]\n",
      " [-0.15625    -0.57291667  0.05208333  0.46875     0.10416667  0.10416667]\n",
      " [ 0.078125    0.05208333 -0.33854167  0.15625     0.26041667 -0.20833333]\n",
      " [-0.05208333  0.46875     0.15625    -0.57291667 -0.10416667  0.10416667]\n",
      " [ 0.26041667  0.10416667  0.26041667 -0.10416667 -0.52083333  0.        ]\n",
      " [ 0.20833333  0.10416667 -0.20833333  0.10416667  0.         -0.20833333]]\n"
     ]
    }
   ],
   "source": [
    "GSTIFFCOPY=GSTIFF.copy() #Creating a copy of Global Stiffness matrix for solving\n",
    "print(GSTIFFCOPY)"
   ]
  },
  {
   "cell_type": "code",
   "execution_count": 84,
   "id": "8f72392c",
   "metadata": {},
   "outputs": [
    {
     "name": "stdout",
     "output_type": "stream",
     "text": [
      "12\n",
      "1\n",
      "12\n",
      "2\n",
      "[0. 0. 0. 0. 1. 0.]\n",
      "[[ 1.00000000e+16 -1.56250001e-01  7.81249993e-02 -5.20833322e-02\n",
      "   2.60416667e-01  2.08333333e-01]\n",
      " [-1.56250001e-01  1.00000000e+16  5.20833322e-02  4.68750001e-01\n",
      "   1.04166668e-01  1.04166666e-01]\n",
      " [ 7.81249993e-02  5.20833322e-02  1.00000000e+16  1.56250001e-01\n",
      "   2.60416667e-01 -2.08333333e-01]\n",
      " [-5.20833322e-02  4.68750001e-01  1.56250001e-01  1.00000000e+16\n",
      "  -1.04166668e-01  1.04166666e-01]\n",
      " [ 2.60416667e-01  1.04166668e-01  2.60416667e-01 -1.04166668e-01\n",
      "  -5.20833334e-01  0.00000000e+00]\n",
      " [ 2.08333333e-01  1.04166666e-01 -2.08333333e-01  1.04166666e-01\n",
      "   0.00000000e+00 -2.08333333e-01]]\n"
     ]
    }
   ],
   "source": [
    "for i in range (1,3):\n",
    "    disp_type = DISP_BC[i,2]\n",
    "    print(int(disp_type))\n",
    "    if disp_type==1:\n",
    "        N=int(DISP_BC[i,1])\n",
    "        F[(2*N-2)]=F[(2*N-2)]+(DISP_BC[i,3]*10**16)\n",
    "        GSTIFFCOPY[2*N-2,2*N-2]=GSTIFFCOPY[2*N-2,2*N-2]+10**16\n",
    "    elif disp_type==2:\n",
    "        N=int(DISP_BC[i,1])\n",
    "        F[(2*N-1)]=F[(2*N-1)]+(DISP_BC[i,4]*10**16)\n",
    "        GSTIFFCOPY[2*N-1,2*N-1]=GSTIFFCOPY[2*N-1,2*N-1]+10**16\n",
    "    else:\n",
    "        N=int(DISP_BC[i,1])\n",
    "        print(N)\n",
    "        F[(2*N-2)]=F[(2*N-2)]+(DISP_BC[i,3]*10**16)\n",
    "        GSTIFFCOPY[2*N-2,2*N-2]=GSTIFFCOPY[2*N-2,2*N-2]+10**16\n",
    "        F[(2*N-1)]=F[(2*N-1)]+(DISP_BC[i,4]*10**16)\n",
    "        GSTIFFCOPY[2*N-1,2*N-1]=GSTIFFCOPY[2*N-1,2*N-1]+10**16\n",
    "print(F)\n",
    "print(GSTIFFCOPY)"
   ]
  },
  {
   "cell_type": "code",
   "execution_count": 85,
   "id": "beac11c7",
   "metadata": {},
   "outputs": [
    {
     "name": "stdout",
     "output_type": "stream",
     "text": [
      "[[ 5.00000000e-17  2.00000003e-17]\n",
      " [ 5.00000000e-17 -2.00000003e-17]\n",
      " [-1.92000000e+00 -0.00000000e+00]]\n"
     ]
    }
   ],
   "source": [
    "DISP=np.linalg.solve(GSTIFFCOPY,F)\n",
    "print(DISP.reshape(-1,2))\n"
   ]
  },
  {
   "cell_type": "code",
   "execution_count": 92,
   "id": "071486a7",
   "metadata": {},
   "outputs": [],
   "source": [
    "import matplotlib.pyplot as plt\n",
    "import numpy as np\n",
    "import scipy.integrate as eval_int\n",
    "from math import sin"
   ]
  },
  {
   "cell_type": "code",
   "execution_count": 104,
   "id": "905c8f7a",
   "metadata": {},
   "outputs": [
    {
     "name": "stdout",
     "output_type": "stream",
     "text": [
      "Enter no.of dimensions : 4\n"
     ]
    }
   ],
   "source": [
    "n=int(input(\"Enter no.of dimensions : \"))\n",
    "b=[]"
   ]
  },
  {
   "cell_type": "code",
   "execution_count": 122,
   "id": "a8c62b7c",
   "metadata": {},
   "outputs": [],
   "source": [
    "def base_fun_gen(p):\n",
    "    base=lambda x:x**p\n",
    "    return base\n",
    "for i in range(n):\n",
    "    b.append(base_fun_gen(i))\n",
    "#K matrix\n",
    "k=[]\n",
    "\n",
    "    "
   ]
  },
  {
   "cell_type": "code",
   "execution_count": 129,
   "id": "2ac86a60",
   "metadata": {},
   "outputs": [
    {
     "ename": "SyntaxError",
     "evalue": "invalid syntax (1297890017.py, line 6)",
     "output_type": "error",
     "traceback": [
      "\u001b[1;36m  Input \u001b[1;32mIn [129]\u001b[1;36m\u001b[0m\n\u001b[1;33m    print(b[i]b[i+1])\u001b[0m\n\u001b[1;37m              ^\u001b[0m\n\u001b[1;31mSyntaxError\u001b[0m\u001b[1;31m:\u001b[0m invalid syntax\n"
     ]
    }
   ],
   "source": [
    "from scipy.integrate import quad\n",
    "from math import pi\n",
    "b[0]\n",
    "b[1]\n",
    "for i in range(n):\n",
    "    print(b[i]b[i+1])"
   ]
  },
  {
   "cell_type": "code",
   "execution_count": null,
   "id": "4b251a16",
   "metadata": {},
   "outputs": [],
   "source": []
  }
 ],
 "metadata": {
  "kernelspec": {
   "display_name": "Python 3 (ipykernel)",
   "language": "python",
   "name": "python3"
  },
  "language_info": {
   "codemirror_mode": {
    "name": "ipython",
    "version": 3
   },
   "file_extension": ".py",
   "mimetype": "text/x-python",
   "name": "python",
   "nbconvert_exporter": "python",
   "pygments_lexer": "ipython3",
   "version": "3.9.12"
  }
 },
 "nbformat": 4,
 "nbformat_minor": 5
}
